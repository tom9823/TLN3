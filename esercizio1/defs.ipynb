{
 "cells": [
  {
   "attachments": {},
   "cell_type": "markdown",
   "metadata": {},
   "source": [
    "# Esercitazione 1\n",
    "\n",
    "Misurazione dell’overlap lessicale tra una serie di definizioni per concetti generici(quindi alti nella tassonomia)/specifici(bassi nella tassonomia) e concreti/astratti. Partendo dai dati sulle definizioni (presente nella cartella \"dati\" su Moodle), si richiede di calcolare la similarità 2-a-2 tra le definizioni (ad es. usando la cardinalità dell'intersezione dei lemmi normalizzata sulla lunghezza minima delle definizioni), aggregando (ed effettuando la media degli score di similarità) sulle due dimensioni (concretezza / specificità)."
   ]
  },
  {
   "cell_type": "code",
   "execution_count": 23,
   "metadata": {},
   "outputs": [],
   "source": [
    "import pandas as pd\n",
    "import nltk\n",
    "import string\n",
    "from nltk.stem import PorterStemmer\n",
    "import itertools\n",
    "from nltk.corpus import stopwords"
   ]
  },
  {
   "attachments": {},
   "cell_type": "markdown",
   "metadata": {},
   "source": [
    "## Metodi di supporto"
   ]
  },
  {
   "attachments": {},
   "cell_type": "markdown",
   "metadata": {},
   "source": [
    "### Normalizzazione della frase"
   ]
  },
  {
   "cell_type": "code",
   "execution_count": 24,
   "metadata": {},
   "outputs": [],
   "source": [
    "stop_words = set(stopwords.words('english'))\n",
    "stemmer = PorterStemmer()\n",
    "\n",
    "def normalize(sentence):\n",
    "    tokens = nltk.word_tokenize(sentence)\n",
    "    tokens = [token for token in tokens if token not in string.punctuation] #tolgo la punteggiatura\n",
    "    tokens = [token.lower() for token in tokens] # sostituisco le maiuscole con le minuscole\n",
    "    tokens = [token for token in tokens if token not in stop_words] # rimuovo le stop words \n",
    "    tokens = [stemmer.stem(token) for token in tokens] # stemmizzo\n",
    "    \n",
    "    return tokens"
   ]
  },
  {
   "attachments": {},
   "cell_type": "markdown",
   "metadata": {},
   "source": [
    "### Calcolo della similarità 2-a-2\n",
    "calcolo la similarità a coppie di definizioni basandosi sull'overlap lessicale, generalmente per lo specifico e concreto si ha un overlap maggiore (circa 0,33)"
   ]
  },
  {
   "cell_type": "code",
   "execution_count": 25,
   "metadata": {},
   "outputs": [],
   "source": [
    "def compare(sentence1, sentence2):\n",
    "    sentence1 = set(sentence1)\n",
    "    sentence2 = set(sentence2)\n",
    "\n",
    "    return len(sentence1.intersection(sentence2)) / min(len(sentence1), len(sentence2))"
   ]
  },
  {
   "cell_type": "code",
   "execution_count": 26,
   "metadata": {},
   "outputs": [],
   "source": [
    "def average_similarity(sentences):\n",
    "    cols1 = []\n",
    "    cols2 = []\n",
    "    cols3 = []\n",
    "\n",
    "    for sentence1, sentence2 in itertools.combinations(sentences, 2):\n",
    "        cols1.append(sentence1)\n",
    "        cols2.append(sentence2)\n",
    "        cols3.append(compare(sentence1, sentence2))\n",
    "\n",
    "    df = pd.DataFrame({\n",
    "        \"sentence 1\": cols1,\n",
    "        \"sentence 2\": cols2,\n",
    "        \"score\": cols3\n",
    "    })\n",
    "    top = df['score'].quantile(q=0.95)\n",
    "    bottom = df['score'].quantile(q=0.05)\n",
    "    new_df = df[(df['score']> bottom) & (df['score']< top)]\n",
    "\n",
    "    return new_df.loc[:, 'score'].mean()"
   ]
  },
  {
   "attachments": {},
   "cell_type": "markdown",
   "metadata": {},
   "source": [
    "## Main"
   ]
  },
  {
   "cell_type": "code",
   "execution_count": 27,
   "metadata": {},
   "outputs": [
    {
     "data": {
      "text/plain": "                                                door  \\\n0  A construction used to divide two rooms, tempo...   \n1       It's an opening, it can be opened or closed.   \n2  An object that divide two room, closing an hol...   \n\n                                             ladybug  \\\n0  small flying insect, typically red with black ...   \n1  It is an insect, it has wings, red with black ...   \n2  An insect that can fly. It has red or orange c...   \n\n                                                pain  \\\n0           A feeling of physical or mental distress   \n1  It is a feeling, physical or emotional. It is ...   \n2  A felling that couscious beings can experince ...   \n\n                                          blurriness  \n0                                 sight out of focus  \n1  It is the absence of definite borders, shapele...  \n2  A sensation felt when you can't see clearly th...  ",
      "text/html": "<div>\n<style scoped>\n    .dataframe tbody tr th:only-of-type {\n        vertical-align: middle;\n    }\n\n    .dataframe tbody tr th {\n        vertical-align: top;\n    }\n\n    .dataframe thead th {\n        text-align: right;\n    }\n</style>\n<table border=\"1\" class=\"dataframe\">\n  <thead>\n    <tr style=\"text-align: right;\">\n      <th></th>\n      <th>door</th>\n      <th>ladybug</th>\n      <th>pain</th>\n      <th>blurriness</th>\n    </tr>\n  </thead>\n  <tbody>\n    <tr>\n      <th>0</th>\n      <td>A construction used to divide two rooms, tempo...</td>\n      <td>small flying insect, typically red with black ...</td>\n      <td>A feeling of physical or mental distress</td>\n      <td>sight out of focus</td>\n    </tr>\n    <tr>\n      <th>1</th>\n      <td>It's an opening, it can be opened or closed.</td>\n      <td>It is an insect, it has wings, red with black ...</td>\n      <td>It is a feeling, physical or emotional. It is ...</td>\n      <td>It is the absence of definite borders, shapele...</td>\n    </tr>\n    <tr>\n      <th>2</th>\n      <td>An object that divide two room, closing an hol...</td>\n      <td>An insect that can fly. It has red or orange c...</td>\n      <td>A felling that couscious beings can experince ...</td>\n      <td>A sensation felt when you can't see clearly th...</td>\n    </tr>\n  </tbody>\n</table>\n</div>"
     },
     "execution_count": 27,
     "metadata": {},
     "output_type": "execute_result"
    }
   ],
   "source": [
    "corpus = pd.read_csv('definizioni.tsv', sep='\\t', engine='python')\n",
    "corpus.head(3)"
   ]
  },
  {
   "attachments": {},
   "cell_type": "markdown",
   "metadata": {},
   "source": [
    "### Similarità media delle definizioni"
   ]
  },
  {
   "cell_type": "code",
   "execution_count": 28,
   "metadata": {},
   "outputs": [],
   "source": [
    "# normalizzo le definizioni\n",
    "corpus['door'] = corpus['door'].apply(normalize)\n",
    "corpus['ladybug'] = corpus['ladybug'].apply(normalize)\n",
    "corpus['pain'] = corpus['pain'].apply(normalize)\n",
    "corpus['blurriness'] = corpus['blurriness'].apply(normalize)"
   ]
  },
  {
   "cell_type": "code",
   "execution_count": 29,
   "metadata": {},
   "outputs": [
    {
     "name": "stdout",
     "output_type": "stream",
     "text": [
      "door: 0.292891648092378\n",
      "ladybug: 0.5724024060230957\n",
      "pain: 0.36445809092867915\n",
      "blurriness: 0.1936115826359729\n"
     ]
    }
   ],
   "source": [
    "for coloumn in corpus:\n",
    "    print(coloumn + \": \" + str(average_similarity(corpus[coloumn])))"
   ]
  },
  {
   "attachments": {},
   "cell_type": "markdown",
   "metadata": {},
   "source": [
    "### Similarità media delle definizioni aggregate (tra i due concreti ed i due astratti considerati insieme)"
   ]
  },
  {
   "cell_type": "code",
   "execution_count": 30,
   "metadata": {},
   "outputs": [],
   "source": [
    "new_corpus = pd.DataFrame()\n",
    "new_corpus['door_ladybug'] = pd.concat([corpus['door'], corpus['ladybug']])\n",
    "new_corpus['pain_blurriness'] = pd.concat([corpus['pain'], corpus['blurriness']])\n",
    "new_corpus = new_corpus.reset_index(drop=True)"
   ]
  },
  {
   "cell_type": "code",
   "execution_count": 31,
   "metadata": {},
   "outputs": [
    {
     "name": "stdout",
     "output_type": "stream",
     "text": [
      "door_ladybug: 0.40423663870800436\n",
      "pain_blurriness: 0.22963548098109005\n"
     ]
    }
   ],
   "source": [
    "for coloumn in new_corpus:\n",
    "    print(coloumn + \": \" + str(average_similarity(new_corpus[coloumn])))"
   ]
  }
 ],
 "metadata": {
  "kernelspec": {
   "display_name": "Python 3",
   "language": "python",
   "name": "python3"
  },
  "language_info": {
   "codemirror_mode": {
    "name": "ipython",
    "version": 3
   },
   "file_extension": ".py",
   "mimetype": "text/x-python",
   "name": "python",
   "nbconvert_exporter": "python",
   "pygments_lexer": "ipython3",
   "version": "3.11.0"
  },
  "orig_nbformat": 4,
  "vscode": {
   "interpreter": {
    "hash": "5238573367df39f7286bb46f9ff5f08f63a01a80960060ce41e3c79b190280fa"
   }
  }
 },
 "nbformat": 4,
 "nbformat_minor": 2
}
